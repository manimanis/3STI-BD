{
 "cells": [
  {
   "cell_type": "code",
   "execution_count": 1,
   "metadata": {},
   "outputs": [],
   "source": [
    "import pandas as pd\n",
    "from random import randint\n",
    "from datetime import datetime, date, timedelta"
   ]
  },
  {
   "cell_type": "code",
   "execution_count": 10,
   "metadata": {},
   "outputs": [],
   "source": [
    "mxdate = date(2007, 12, 31)\n",
    "mndate = date(2004, 1, 1)\n",
    "diff = (mxdate - mndate).days\n",
    "eleves_2info = [\n",
    "    ('Mazzez', 'Adem', 'M'),\n",
    "    ('Lajmi', 'Eya', 'F'),\n",
    "    ('Ben Moussa', 'Ahmed', 'M'),\n",
    "    ('Lajmi', 'Isra', 'F'),\n",
    "    ('Kassouma', 'Mohamed Amine', 'M')\n",
    "]"
   ]
  },
  {
   "cell_type": "code",
   "execution_count": 11,
   "metadata": {},
   "outputs": [
    {
     "data": {
      "text/plain": [
       "[{'numel': 'E001',\n",
       "  'nom': 'Mazzez',\n",
       "  'prenom': 'Adem',\n",
       "  'genre': 'M',\n",
       "  'datenaiss': '2007-04-27'},\n",
       " {'numel': 'E002',\n",
       "  'nom': 'Lajmi',\n",
       "  'prenom': 'Eya',\n",
       "  'genre': 'F',\n",
       "  'datenaiss': '2006-12-18'},\n",
       " {'numel': 'E003',\n",
       "  'nom': 'Ben Moussa',\n",
       "  'prenom': 'Ahmed',\n",
       "  'genre': 'M',\n",
       "  'datenaiss': '2006-08-20'},\n",
       " {'numel': 'E004',\n",
       "  'nom': 'Lajmi',\n",
       "  'prenom': 'Isra',\n",
       "  'genre': 'F',\n",
       "  'datenaiss': '2004-11-29'},\n",
       " {'numel': 'E005',\n",
       "  'nom': 'Kassouma',\n",
       "  'prenom': 'Mohamed Amine',\n",
       "  'genre': 'M',\n",
       "  'datenaiss': '2006-10-15'}]"
      ]
     },
     "execution_count": 11,
     "metadata": {},
     "output_type": "execute_result"
    }
   ],
   "source": [
    "eleves = []\n",
    "eleves_count = 0\n",
    "for nom, prenom, genre in eleves_2info:\n",
    "    eleves_count += 1\n",
    "    eleve = {\n",
    "        'numel': f\"E{eleves_count:03}\",\n",
    "        'nom': nom,\n",
    "        'prenom': prenom,\n",
    "        'genre': genre,\n",
    "        'datenaiss': str(mndate + timedelta(days=randint(0, diff)))\n",
    "    }\n",
    "    eleves.append(eleve)\n",
    "eleves[-5:]"
   ]
  },
  {
   "cell_type": "code",
   "execution_count": 12,
   "metadata": {},
   "outputs": [],
   "source": [
    "mxdate = date(2006, 12, 31)\n",
    "mndate = date(2005, 1, 1)\n",
    "diff = (mxdate - mndate).days\n",
    "eleves_3info = [\n",
    "    ('Ben Hmida', 'Adem', 'M'),\n",
    "    ('Ben Massoud', 'Amal', 'F'),\n",
    "    ('Jedidi', 'Ayhme', 'M'),\n",
    "    ('Gaaloul', 'Abrar', 'F'),\n",
    "    ('Garzoul', 'Raslène', 'M')\n",
    "]"
   ]
  },
  {
   "cell_type": "code",
   "execution_count": 13,
   "metadata": {},
   "outputs": [
    {
     "data": {
      "text/plain": [
       "[{'numel': 'E006',\n",
       "  'nom': 'Ben Hmida',\n",
       "  'prenom': 'Adem',\n",
       "  'genre': 'M',\n",
       "  'datenaiss': '2005-09-10'},\n",
       " {'numel': 'E007',\n",
       "  'nom': 'Ben Massoud',\n",
       "  'prenom': 'Amal',\n",
       "  'genre': 'F',\n",
       "  'datenaiss': '2006-05-05'},\n",
       " {'numel': 'E008',\n",
       "  'nom': 'Jedidi',\n",
       "  'prenom': 'Ayhme',\n",
       "  'genre': 'M',\n",
       "  'datenaiss': '2006-02-18'},\n",
       " {'numel': 'E009',\n",
       "  'nom': 'Gaaloul',\n",
       "  'prenom': 'Abrar',\n",
       "  'genre': 'F',\n",
       "  'datenaiss': '2006-02-24'},\n",
       " {'numel': 'E010',\n",
       "  'nom': 'Garzoul',\n",
       "  'prenom': 'Raslène',\n",
       "  'genre': 'M',\n",
       "  'datenaiss': '2006-03-10'}]"
      ]
     },
     "execution_count": 13,
     "metadata": {},
     "output_type": "execute_result"
    }
   ],
   "source": [
    "for nom, prenom, genre in eleves_3info:\n",
    "    eleves_count += 1\n",
    "    eleve = {\n",
    "        'numel': f\"E{eleves_count:03}\",\n",
    "        'nom': nom,\n",
    "        'prenom': prenom,\n",
    "        'genre': genre,\n",
    "        'datenaiss': str(mndate + timedelta(days=randint(0, diff)))\n",
    "    }\n",
    "    eleves.append(eleve)\n",
    "eleves[-5:]"
   ]
  },
  {
   "cell_type": "code",
   "execution_count": 14,
   "metadata": {},
   "outputs": [],
   "source": [
    "def insert_statement(table, arr):\n",
    "    return (f\"INSERT INTO {table} (\" + \n",
    "      \", \".join(arr[0].keys()) + \n",
    "      \")\\nVALUES (\" + \n",
    "      \"),\\n\\t(\".join(','.join(\"'\" + str(val) + \"'\" for val in item.values()) for item in arr) + \");\")"
   ]
  },
  {
   "cell_type": "code",
   "execution_count": 15,
   "metadata": {},
   "outputs": [
    {
     "name": "stdout",
     "output_type": "stream",
     "text": [
      "INSERT INTO Eleves (numel, nom, prenom, genre, datenaiss)\n",
      "VALUES ('E001','Mazzez','Adem','M','2007-04-27'),\n",
      "\t('E002','Lajmi','Eya','F','2006-12-18'),\n",
      "\t('E003','Ben Moussa','Ahmed','M','2006-08-20'),\n",
      "\t('E004','Lajmi','Isra','F','2004-11-29'),\n",
      "\t('E005','Kassouma','Mohamed Amine','M','2006-10-15'),\n",
      "\t('E006','Ben Hmida','Adem','M','2005-09-10'),\n",
      "\t('E007','Ben Massoud','Amal','F','2006-05-05'),\n",
      "\t('E008','Jedidi','Ayhme','M','2006-02-18'),\n",
      "\t('E009','Gaaloul','Abrar','F','2006-02-24'),\n",
      "\t('E010','Garzoul','Raslène','M','2006-03-10');\n"
     ]
    }
   ],
   "source": [
    "print(insert_statement('Eleves', eleves))"
   ]
  },
  {
   "cell_type": "code",
   "execution_count": 16,
   "metadata": {},
   "outputs": [],
   "source": [
    "the_classes = [\n",
    "    (1, 'S', 1),\n",
    "    (1, 'S', 2),\n",
    "    (2, 'INFO', 1),\n",
    "    (2, 'INFO', 2),\n",
    "    (3, 'INFO', 1)\n",
    "]"
   ]
  },
  {
   "cell_type": "code",
   "execution_count": 17,
   "metadata": {},
   "outputs": [
    {
     "data": {
      "text/plain": [
       "[{'numcl': 'C001', 'libelle': '1S1', 'niveau': 1, 'section': 'S', 'numord': 1},\n",
       " {'numcl': 'C002', 'libelle': '1S2', 'niveau': 1, 'section': 'S', 'numord': 2},\n",
       " {'numcl': 'C003',\n",
       "  'libelle': '2INFO1',\n",
       "  'niveau': 2,\n",
       "  'section': 'INFO',\n",
       "  'numord': 1},\n",
       " {'numcl': 'C004',\n",
       "  'libelle': '2INFO2',\n",
       "  'niveau': 2,\n",
       "  'section': 'INFO',\n",
       "  'numord': 2},\n",
       " {'numcl': 'C005',\n",
       "  'libelle': '3INFO1',\n",
       "  'niveau': 3,\n",
       "  'section': 'INFO',\n",
       "  'numord': 1}]"
      ]
     },
     "execution_count": 17,
     "metadata": {},
     "output_type": "execute_result"
    }
   ],
   "source": [
    "classes = []\n",
    "classes_count = 0\n",
    "for niveau, section, numord in the_classes:\n",
    "    classes_count += 1\n",
    "    classe = {\n",
    "        'numcl': f\"C{classes_count:03}\",\n",
    "        'libelle': f\"{niveau}{section}{numord}\",\n",
    "        'niveau': niveau,\n",
    "        'section': section,\n",
    "        'numord': numord\n",
    "    }\n",
    "    classes.append(classe)\n",
    "classes"
   ]
  },
  {
   "cell_type": "code",
   "execution_count": 18,
   "metadata": {},
   "outputs": [
    {
     "name": "stdout",
     "output_type": "stream",
     "text": [
      "INSERT INTO Classes (numcl, libelle, niveau, section, numord)\n",
      "VALUES ('C001','1S1','1','S','1'),\n",
      "\t('C002','1S2','1','S','2'),\n",
      "\t('C003','2INFO1','2','INFO','1'),\n",
      "\t('C004','2INFO2','2','INFO','2'),\n",
      "\t('C005','3INFO1','3','INFO','1');\n"
     ]
    }
   ],
   "source": [
    "print(insert_statement('Classes', classes))"
   ]
  },
  {
   "cell_type": "code",
   "execution_count": 19,
   "metadata": {},
   "outputs": [],
   "source": [
    "classes_eleves = [\n",
    "    {'annee': 2021, 'numel': 'E001', 'numcl': 'C001'},\n",
    "    {'annee': 2021, 'numel': 'E002', 'numcl': 'C002'},\n",
    "    {'annee': 2021, 'numel': 'E003', 'numcl': 'C003'},\n",
    "    {'annee': 2021, 'numel': 'E004', 'numcl': 'C002'},\n",
    "    {'annee': 2021, 'numel': 'E005', 'numcl': 'C003'},\n",
    "    {'annee': 2021, 'numel': 'E006', 'numcl': 'C003'},\n",
    "    {'annee': 2021, 'numel': 'E007', 'numcl': 'C003'},\n",
    "    {'annee': 2021, 'numel': 'E008', 'numcl': 'C003'},\n",
    "    {'annee': 2021, 'numel': 'E009', 'numcl': 'C003'},\n",
    "    {'annee': 2021, 'numel': 'E010', 'numcl': 'C003'},\n",
    "    {'annee': 2022, 'numel': 'E001', 'numcl': 'C004'},\n",
    "    {'annee': 2022, 'numel': 'E002', 'numcl': 'C004'},\n",
    "    {'annee': 2022, 'numel': 'E003', 'numcl': 'C004'},\n",
    "    {'annee': 2022, 'numel': 'E004', 'numcl': 'C004'},\n",
    "    {'annee': 2022, 'numel': 'E005', 'numcl': 'C004'},\n",
    "    {'annee': 2022, 'numel': 'E006', 'numcl': 'C005'},\n",
    "    {'annee': 2022, 'numel': 'E007', 'numcl': 'C005'},\n",
    "    {'annee': 2022, 'numel': 'E008', 'numcl': 'C005'},\n",
    "    {'annee': 2022, 'numel': 'E009', 'numcl': 'C005'},\n",
    "    {'annee': 2022, 'numel': 'E010', 'numcl': 'C005'},\n",
    "]"
   ]
  },
  {
   "cell_type": "code",
   "execution_count": 20,
   "metadata": {},
   "outputs": [
    {
     "name": "stdout",
     "output_type": "stream",
     "text": [
      "INSERT INTO ClassesEleves (annee, numel, numcl)\n",
      "VALUES ('2021','E001','C001'),\n",
      "\t('2021','E002','C002'),\n",
      "\t('2021','E003','C003'),\n",
      "\t('2021','E004','C002'),\n",
      "\t('2021','E005','C003'),\n",
      "\t('2021','E006','C003'),\n",
      "\t('2021','E007','C003'),\n",
      "\t('2021','E008','C003'),\n",
      "\t('2021','E009','C003'),\n",
      "\t('2021','E010','C003'),\n",
      "\t('2022','E001','C004'),\n",
      "\t('2022','E002','C004'),\n",
      "\t('2022','E003','C004'),\n",
      "\t('2022','E004','C004'),\n",
      "\t('2022','E005','C004'),\n",
      "\t('2022','E006','C005'),\n",
      "\t('2022','E007','C005'),\n",
      "\t('2022','E008','C005'),\n",
      "\t('2022','E009','C005'),\n",
      "\t('2022','E010','C005');\n"
     ]
    }
   ],
   "source": [
    "print(insert_statement('ClassesEleves', classes_eleves))"
   ]
  },
  {
   "cell_type": "code",
   "execution_count": null,
   "metadata": {},
   "outputs": [],
   "source": []
  }
 ],
 "metadata": {
  "kernelspec": {
   "display_name": "base",
   "language": "python",
   "name": "python3"
  },
  "language_info": {
   "codemirror_mode": {
    "name": "ipython",
    "version": 3
   },
   "file_extension": ".py",
   "mimetype": "text/x-python",
   "name": "python",
   "nbconvert_exporter": "python",
   "pygments_lexer": "ipython3",
   "version": "3.9.16"
  },
  "orig_nbformat": 4
 },
 "nbformat": 4,
 "nbformat_minor": 2
}
